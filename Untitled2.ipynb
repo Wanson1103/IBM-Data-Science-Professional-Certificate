{
 "cells": [
  {
   "cell_type": "markdown",
   "id": "4239084c-d4a9-495c-acf7-1647586a2ad3",
   "metadata": {},
   "source": [
    "# My Jupyter Notebook on IBM Watson Studio"
   ]
  },
  {
   "cell_type": "markdown",
   "id": "5624ba5c-56e8-4a6a-9b24-c17a2ac0289a",
   "metadata": {},
   "source": [
    "**Anson**\n",
    "\n",
    "Student"
   ]
  },
  {
   "cell_type": "markdown",
   "id": "9448c55e-e150-4769-a177-f705edd4ef3e",
   "metadata": {},
   "source": [
    "*I am interested in data science because it is fun to play around with data*"
   ]
  },
  {
   "cell_type": "markdown",
   "id": "21bf8a9e-53c6-4236-8e83-727f3dc0ca04",
   "metadata": {},
   "source": [
    "### My code will show addition of number"
   ]
  },
  {
   "cell_type": "code",
   "execution_count": null,
   "id": "0654dc7f-b8f1-4363-ac71-30e826e21b39",
   "metadata": {},
   "outputs": [],
   "source": [
    "print(1+2)"
   ]
  },
  {
   "cell_type": "markdown",
   "id": "de740670-aae9-4230-abac-1deacfa3bc11",
   "metadata": {},
   "source": [
    "> Idk\n",
    "\n",
    "Table | Test \n",
    "--- | --- \n",
    "1 | 2 \n",
    "\n",
    "[Google](https://www.google.com)"
   ]
  },
  {
   "cell_type": "code",
   "execution_count": null,
   "id": "27e1f360-1962-48cf-a2f3-99f43adb728f",
   "metadata": {},
   "outputs": [],
   "source": []
  },
  {
   "cell_type": "code",
   "execution_count": null,
   "id": "f91dca41-a8b6-408c-881c-7b1b91605455",
   "metadata": {},
   "outputs": [],
   "source": []
  }
 ],
 "metadata": {
  "kernelspec": {
   "display_name": "Python 3",
   "language": "python",
   "name": "python3"
  },
  "language_info": {
   "codemirror_mode": {
    "name": "ipython",
    "version": 3
   },
   "file_extension": ".py",
   "mimetype": "text/x-python",
   "name": "python",
   "nbconvert_exporter": "python",
   "pygments_lexer": "ipython3",
   "version": "3.7.8"
  }
 },
 "nbformat": 4,
 "nbformat_minor": 5
}
